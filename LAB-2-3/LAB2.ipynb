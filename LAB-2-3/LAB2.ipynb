{
 "cells": [
  {
   "cell_type": "code",
   "execution_count": 3,
   "id": "0b0cf108",
   "metadata": {},
   "outputs": [],
   "source": [
    "import difflib\n",
    "from fileinput import filename\n",
    "from unittest import case\n",
    "from transformers import AutoTokenizer, AutoModelForSeq2SeqLM\n",
    "from pydriller import Repository\n",
    "import pandas as pd\n",
    "import subprocess\n",
    "import re\n",
    "from tqdm import tqdm"
   ]
  },
  {
   "cell_type": "code",
   "execution_count": 4,
   "id": "30d246e5",
   "metadata": {},
   "outputs": [],
   "source": [
    "urls = [\"https://github.com/jax-ml/jax\"]\n",
    "max_limit = 500\n",
    "bugs = [\"bug\", \"fix\", \"issue\", \"error\", \"problem\", \"fail\", \"exception\", \"crash\", \"fault\", \"defect\", \"refactor\", \"resolved\"]\n",
    "repo_path = \"../LAB4/repos/JAX\"\n",
    "# Compile regex pattern (word boundaries, case-insensitive)\n",
    "bug_pattern = re.compile(r\"\\b(\" + \"|\".join(bugs) + r\")\\b\", re.IGNORECASE)\n",
    "\n",
    "def is_bug_fix_commit(message: str) -> bool:\n",
    "    \"\"\"Return True if commit message relates to bug fixing.\"\"\"\n",
    "    return bool(bug_pattern.search(message))"
   ]
  },
  {
   "cell_type": "markdown",
   "id": "14200df1",
   "metadata": {},
   "source": [
    "Identify bug-fixing commits from the repository. The strategy to define the\n",
    "notion of a bug as well as how to identify the corresponding commit, should\n",
    "be defined by you.\n",
    "-  For each bug-fixing commit, store the following information (in csv format).\n",
    "    - Hash | Message | Hashes of parents | Is a merge commit? | List of modified files"
   ]
  },
  {
   "cell_type": "code",
   "execution_count": 37,
   "id": "ae24c9a7",
   "metadata": {},
   "outputs": [],
   "source": [
    "COMMIT_HISTORY = \"bug_fixing_commit.csv\"\n",
    "data = {\n",
    "    'Hash': [],\n",
    "    'Parent Hash': [],\n",
    "    'Message': [],\n",
    "    'Is a merge commit?': [],\n",
    "    'Modified File': []\n",
    "}"
   ]
  },
  {
   "cell_type": "code",
   "execution_count": 38,
   "id": "2fd1f8f6",
   "metadata": {},
   "outputs": [
    {
     "name": "stdout",
     "output_type": "stream",
     "text": [
      "\n",
      "Successfully generated bug_fixing_commit.csv with 13108 bug fix commit entries.\n"
     ]
    }
   ],
   "source": [
    "for i, commit in enumerate(Repository(repo_path).traverse_commits()):\n",
    "    if is_bug_fix_commit(commit.msg):\n",
    "        parent_hashes = commit.parents or [\"<no-parent>\"]\n",
    "        modified_files = [f.filename for f in commit.modified_files] or [\"<no-file>\"]\n",
    "\n",
    "        for p in parent_hashes:\n",
    "            for mf in modified_files:\n",
    "                data['Hash'].append(commit.hash)\n",
    "                data['Parent Hash'].append(p)\n",
    "                data['Message'].append(commit.author.name + \": \" + commit.msg)\n",
    "                data['Is a merge commit?'].append(commit.merge)\n",
    "                data['Modified File'].append(mf)\n",
    "\n",
    "# Create the DataFrame and save it to a CSV file\n",
    "if data['Hash']:\n",
    "    data_df = pd.DataFrame(data)\n",
    "    data_df.to_csv(COMMIT_HISTORY, index=False)\n",
    "    print(f\"\\nSuccessfully generated {COMMIT_HISTORY} with {len(data['Hash'])} bug fix commit entries.\")\n",
    "else:\n",
    "    print(\"\\nNo bug fix commits found within the specified limit.\")"
   ]
  },
  {
   "cell_type": "markdown",
   "id": "5fefbef4",
   "metadata": {},
   "source": [
    "Diff Extraction and Analyses:\n",
    "- For each modified file (in the previous step), store the following (as csv).\n",
    "\n",
    "Hash\n",
    "\n",
    "Message \n",
    "\n",
    "Filename\n",
    "\n",
    "Source\n",
    "Code\n",
    "(before)\n",
    "\n",
    "Source\n",
    "Code\n",
    "(current)\n",
    "\n",
    "Diff LLM Inference\n",
    "(fix type)\n",
    "\n",
    "Rectified\n",
    "Message\n",
    "... ... ... ... ... ... ... ...\n",
    "... ... ... ... ... ... ... ..."
   ]
  },
  {
   "cell_type": "code",
   "execution_count": 5,
   "id": "d3690216",
   "metadata": {},
   "outputs": [],
   "source": [
    "DIFF_EXTRACTION = \"COMMIT_DIFF_ANALYSIS.csv\"\n",
    "data = {\n",
    "    \"Hash\": [],\n",
    "    \"Message\": [],\n",
    "    \"Filename\": [],\n",
    "    \"Source Code (before)\": [],\n",
    "    \"Source Code (current)\": [],\n",
    "    \"Diff\": [],\n",
    "    # \"LLM_Inference\": [],\n",
    "    # \"Rectifier\": []\n",
    "}"
   ]
  },
  {
   "cell_type": "code",
   "execution_count": 8,
   "id": "38dd6605",
   "metadata": {},
   "outputs": [],
   "source": [
    "def get_file_content(commit_hash, filepath):\n",
    "    \"\"\"Get file content at a specific commit hash (text or binary).\"\"\"\n",
    "    if not filepath:\n",
    "        return \"\"\n",
    "    try:\n",
    "        raw = subprocess.check_output(\n",
    "            [\"git\", \"-C\", repo_path, \"show\", f\"{commit_hash}:{filepath}\"],\n",
    "            stderr=subprocess.DEVNULL\n",
    "        )\n",
    "        # Try UTF-8 first\n",
    "        try:\n",
    "            return raw.decode(\"utf-8\")\n",
    "        except UnicodeDecodeError:\n",
    "            return \"<binary file>\"\n",
    "    except subprocess.CalledProcessError:\n",
    "        return \"\"  # File may not exist in that commit\n",
    "\n",
    "def get_diff(parent_sha, commit_sha, old_path, new_path):\n",
    "    \"\"\"Get diff between parent and commit for the given file.\"\"\"\n",
    "    if not old_path and not new_path:\n",
    "        return \"\"\n",
    "    try:\n",
    "        raw = subprocess.check_output(\n",
    "            [\n",
    "                \"git\", \"-C\", repo_path, \"diff\", \"--diff-algorithm=histogram\", \"--full-index\",\n",
    "                f\"{parent_sha}:{old_path or new_path}\",\n",
    "                f\"{commit_sha}:{new_path or old_path}\"\n",
    "            ],\n",
    "            stderr=subprocess.DEVNULL\n",
    "        )\n",
    "        return raw.decode(\"utf-8\", errors=\"replace\")  # avoid crash on weird encodings\n",
    "    except subprocess.CalledProcessError:\n",
    "        return \"\"  # Diff not available\n"
   ]
  },
  {
   "cell_type": "code",
   "execution_count": 9,
   "id": "218e1a09",
   "metadata": {},
   "outputs": [
    {
     "name": "stderr",
     "output_type": "stream",
     "text": [
      "Analyzing commits: 100%|██████████| 1000/1000 [00:03<00:00, 262.17commit/s]\n"
     ]
    },
    {
     "name": "stdout",
     "output_type": "stream",
     "text": [
      "\n",
      "✅ Successfully generated COMMIT_DIFF_ANALYSIS.csv with 262 file-level entries.\n"
     ]
    }
   ],
   "source": [
    "commits = list(Repository(repo_path).traverse_commits())[:1000]\n",
    "\n",
    "for commit in tqdm(commits, desc=\"Analyzing commits\", unit=\"commit\"):\n",
    "    if is_bug_fix_commit(commit.msg):\n",
    "        parent_hashes = commit.parents or [\"<no-parent>\"]\n",
    "        for mod in commit.modified_files:\n",
    "            for parent_sha in parent_hashes:\n",
    "                old_code = get_file_content(parent_sha, mod.old_path)\n",
    "                new_code = get_file_content(commit.hash, mod.new_path)\n",
    "                diff = get_diff(parent_sha, commit.hash, mod.old_path, mod.new_path)\n",
    "\n",
    "                data[\"Hash\"].append(commit.hash)\n",
    "                data[\"Message\"].append(commit.author.name + \": \" + commit.msg)\n",
    "                data[\"Filename\"].append(mod.new_path or mod.old_path or \"<unknown>\")\n",
    "                data[\"Source Code (before)\"].append(old_code)\n",
    "                data[\"Source Code (current)\"].append(new_code)\n",
    "                data[\"Diff\"].append(diff)\n",
    "\n",
    "# Save DataFrame to CSV\n",
    "if data[\"Hash\"]:\n",
    "    df = pd.DataFrame(data)\n",
    "    df.to_csv(DIFF_EXTRACTION, index=False)\n",
    "    print(f\"\\n✅ Successfully generated {DIFF_EXTRACTION} with {len(data['Hash'])} file-level entries.\")\n",
    "else:\n",
    "    print(\"\\n No bug fix commit details found.\")"
   ]
  },
  {
   "cell_type": "code",
   "execution_count": 2,
   "id": "85789e28",
   "metadata": {},
   "outputs": [],
   "source": [
    "from transformers import AutoTokenizer, AutoModelForSeq2SeqLM\n",
    "\n",
    "tokenizer = AutoTokenizer.from_pretrained(\"mamiksik/CommitPredictorT5\")\n",
    "model = AutoModelForSeq2SeqLM.from_pretrained(\"mamiksik/CommitPredictorT5\")\n",
    "\n",
    "def get_inference(diff_text):\n",
    "    if not isinstance(diff_text, str) or not diff_text.strip():\n",
    "        return \"\"\n",
    "    inputs = tokenizer(diff_text, return_tensors=\"pt\", truncation=True, max_length=512)\n",
    "    outputs = model.generate(**inputs, max_length=64)\n",
    "    return tokenizer.decode(outputs[0], skip_special_tokens=True)"
   ]
  },
  {
   "cell_type": "code",
   "execution_count": 3,
   "id": "f28ed807",
   "metadata": {},
   "outputs": [
    {
     "ename": "",
     "evalue": "",
     "output_type": "error",
     "traceback": [
      "\u001b[1;31mThe Kernel crashed while executing code in the current cell or a previous cell. \n",
      "\u001b[1;31mPlease review the code in the cell(s) to identify a possible cause of the failure. \n",
      "\u001b[1;31mClick <a href='https://aka.ms/vscodeJupyterKernelCrash'>here</a> for more info. \n",
      "\u001b[1;31mView Jupyter <a href='command:jupyter.viewOutput'>log</a> for further details."
     ]
    }
   ],
   "source": [
    "input_csv = \"COMMIT_DIFF_ANALYSIS.csv\"\n",
    "df = pd.read_csv(input_csv)\n",
    "\n",
    "df[\"LLM Inference\"] = df[\"Diff\"].apply(get_inference)\n",
    "\n",
    "# Save updated CSV\n",
    "output_csv = \"big_commits_with_inference.csv\"\n",
    "df.to_csv(output_csv, index=False)\n",
    "\n",
    "print(f\"✅ Added 'LLM Inference' column. Saved as {output_csv}\")\n"
   ]
  },
  {
   "cell_type": "code",
   "execution_count": null,
   "id": "35009b5d",
   "metadata": {},
   "outputs": [],
   "source": []
  }
 ],
 "metadata": {
  "kernelspec": {
   "display_name": "Python 3",
   "language": "python",
   "name": "python3"
  },
  "language_info": {
   "codemirror_mode": {
    "name": "ipython",
    "version": 3
   },
   "file_extension": ".py",
   "mimetype": "text/x-python",
   "name": "python",
   "nbconvert_exporter": "python",
   "pygments_lexer": "ipython3",
   "version": "3.12.1"
  }
 },
 "nbformat": 4,
 "nbformat_minor": 5
}
